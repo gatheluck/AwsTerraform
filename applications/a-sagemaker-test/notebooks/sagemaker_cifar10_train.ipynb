{
 "cells": [
  {
   "cell_type": "code",
   "execution_count": null,
   "id": "51feb56c",
   "metadata": {},
   "outputs": [],
   "source": [
    "# Download CIFAR-10\n",
    "import torchvision\n",
    "torchvision.datasets.CIFAR10(root='./data', train=True, download=True)\n",
    "torchvision.datasets.CIFAR10(root='./data', train=False, download=True)"
   ]
  },
  {
   "cell_type": "code",
   "execution_count": 2,
   "id": "7f71c932",
   "metadata": {},
   "outputs": [],
   "source": [
    "# Create SageMaker Session\n",
    "import sagemaker\n",
    "\n",
    "use_local_mode = False\n",
    "default_bucket = 'aws-terraform-a-sagemaker-test'\n",
    "\n",
    "if use_local_mode:\n",
    "    raise NotImplementedError(\"Currently local mode code return CalledProcessError. I will solve this later.\")\n",
    "    from sagemaker.local import LocalSession\n",
    "\n",
    "    class MyLocalSession(LocalSession):\n",
    "        def __init__(self, default_bucket):\n",
    "            super().__init__()\n",
    "            self._default_bucket=default_bucket\n",
    "\n",
    "    sagemaker_session = MyLocalSession(default_bucket=default_bucket)\n",
    "    instance_type = \"local\"\n",
    "else:\n",
    "    from sagemaker import Session\n",
    "\n",
    "    sagemaker_session = sagemaker.Session(default_bucket=default_bucket)\n",
    "    instance_type = \"ml.g4dn.4xlarge\""
   ]
  },
  {
   "cell_type": "code",
   "execution_count": null,
   "id": "e4da5a46",
   "metadata": {},
   "outputs": [],
   "source": [
    "# Upload the data to S3 bucket\n",
    "\n",
    "bucket = sagemaker_session.default_bucket()\n",
    "prefix = 'data/cifar10'\n",
    "\n",
    "role = sagemaker.get_execution_role()\n",
    "print(role)\n",
    "\n",
    "inputs = sagemaker_session.upload_data(path='data', bucket=bucket, key_prefix=prefix)\n",
    "print(inputs)"
   ]
  },
  {
   "cell_type": "code",
   "execution_count": null,
   "id": "a81e4d9a",
   "metadata": {},
   "outputs": [],
   "source": [
    "# Show entrypoint script\n",
    "!pygmentize src/cifar10.py"
   ]
  },
  {
   "cell_type": "code",
   "execution_count": 6,
   "id": "62536055",
   "metadata": {},
   "outputs": [],
   "source": [
    "# Create Estimator\n",
    "from sagemaker.pytorch import PyTorch\n",
    "\n",
    "cifar10_estimator = PyTorch(py_version='py3',\n",
    "                            entry_point='src/cifar10.py',\n",
    "                            role=role,\n",
    "                            framework_version='1.7.1',\n",
    "                            instance_count=1,\n",
    "                            sagemaker_session=sagemaker_session,\n",
    "                            instance_type=instance_type,\n",
    "                            )"
   ]
  },
  {
   "cell_type": "code",
   "execution_count": null,
   "id": "423b53bd",
   "metadata": {},
   "outputs": [],
   "source": [
    "# Kick traing job\n",
    "cifar10_estimator.fit(inputs)"
   ]
  },
  {
   "cell_type": "code",
   "execution_count": null,
   "id": "5e69bff2",
   "metadata": {},
   "outputs": [],
   "source": []
  }
 ],
 "metadata": {
  "kernelspec": {
   "display_name": "conda_pytorch_p36",
   "language": "python",
   "name": "conda_pytorch_p36"
  },
  "language_info": {
   "codemirror_mode": {
    "name": "ipython",
    "version": 3
   },
   "file_extension": ".py",
   "mimetype": "text/x-python",
   "name": "python",
   "nbconvert_exporter": "python",
   "pygments_lexer": "ipython3",
   "version": "3.6.13"
  }
 },
 "nbformat": 4,
 "nbformat_minor": 5
}
